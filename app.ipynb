{
 "cells": [
  {
   "cell_type": "code",
   "execution_count": 23,
   "metadata": {},
   "outputs": [],
   "source": [
    "import pyautogui as py\n",
    "import time\n",
    "\n",
    "py.press('win')\n",
    "time.sleep(4)\n",
    "py.write('chome')\n",
    "time.sleep(4)\n",
    "py.press('enter')\n",
    "time.sleep(6)\n",
    "py.write('https://drive.google.com/drive/u/0/my-drive')\n",
    "time.sleep(2)\n",
    "py.press('enter')\n",
    "time.sleep(7)\n",
    "py.hotkey('win','d')\n",
    "time.sleep(5)\n",
    "py.moveTo(1849, 35)\n",
    "time.sleep(5)\n",
    "py.mouseDown()\n",
    "py.moveTo(890, 648)\n",
    "py.hotkey('alt', 'tab')\n",
    "time.sleep(4)\n",
    "py.mouseUp()\n",
    "time.sleep(7)"
   ]
  }
 ],
 "metadata": {
  "kernelspec": {
   "display_name": "Python 3",
   "language": "python",
   "name": "python3"
  },
  "language_info": {
   "codemirror_mode": {
    "name": "ipython",
    "version": 3
   },
   "file_extension": ".py",
   "mimetype": "text/x-python",
   "name": "python",
   "nbconvert_exporter": "python",
   "pygments_lexer": "ipython3",
   "version": "3.11.4"
  },
  "orig_nbformat": 4
 },
 "nbformat": 4,
 "nbformat_minor": 2
}
